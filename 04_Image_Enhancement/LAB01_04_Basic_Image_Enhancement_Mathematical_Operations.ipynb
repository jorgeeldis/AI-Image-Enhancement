{
 "cells": [
  {
   "cell_type": "markdown",
   "metadata": {},
   "source": [
    "# <font style=\"color:black\">Basic Image Enhancement Using Mathematical Operations</font>\n",
    "Image Processing techniques take advantage of mathematical operations to achieve different results. Most often we arrive at an enhanced version of the image using some basic operations. We will take a look at some of the fundamental operations often used in computer vision pipelines. In this notebook we will cover:\n",
    "\n",
    "* Arithmetic Operations like addition, multiplication\n",
    "* Thresholding & Masking\n",
    "* Bitwise Operations like OR, AND, XOR"
   ]
  },
  {
   "cell_type": "code",
   "execution_count": null,
   "metadata": {
    "slideshow": {
     "slide_type": "-"
    }
   },
   "outputs": [],
   "source": [
    "# Import libraries\n",
    "import cv2\n",
    "import numpy as np\n",
    "import matplotlib.pyplot as plt\n",
    "from PIL import Image \n",
    "%matplotlib inline\n",
    "from IPython.display import Image\n"
   ]
  },
  {
   "cell_type": "markdown",
   "metadata": {},
   "source": [
    "r'C:\\Users\\Usuario\\Documents\\OPEN CV _CURSO\\04_Image_Enhancement\\"
   ]
  },
  {
   "cell_type": "markdown",
   "metadata": {},
   "source": [
    "### <font color=\"green\">Original image</font>"
   ]
  },
  {
   "cell_type": "code",
   "execution_count": null,
   "metadata": {
    "slideshow": {
     "slide_type": "slide"
    }
   },
   "outputs": [],
   "source": [
    "img_bgr = cv2.imread(r'C:\\Users\\Usuario\\Documents\\OPEN CV _CURSO\\04_Image_Enhancement\\New_Zealand_Coast.jpg',cv2.IMREAD_COLOR)\n",
    "img_rgb = cv2.cvtColor(img_bgr, cv2.COLOR_BGR2RGB)\n",
    "\n",
    "# Display 18x18 pixel image.\n",
    "#Image(filename='New_Zealand_Coast.jpg')\n",
    "Image(filename=r'C:\\Users\\Usuario\\Documents\\OPEN CV _CURSO\\04_Image_Enhancement\\New_Zealand_Coast.jpg')"
   ]
  },
  {
   "cell_type": "markdown",
   "metadata": {},
   "source": [
    "## Addition or Brightness\n",
    "The first operation we discuss is simple addition of images. This results in increasing or decreasing the brightness of the image since we are eventually increasing or decreasing the intensity values of each pixel by the same amount. So, this will result in a global increase/decrease in brightness."
   ]
  },
  {
   "cell_type": "code",
   "execution_count": null,
   "metadata": {
    "scrolled": true
   },
   "outputs": [],
   "source": [
    "matrix = np.ones(img_rgb.shape, dtype = \"uint8\") * 50\n",
    "\n",
    "img_rgb_brighter = cv2.add(img_rgb, matrix)\n",
    "img_rgb_darker   = cv2.subtract(img_rgb, matrix)\n",
    "\n",
    "# Show the images\n",
    "plt.figure(figsize=[18,5])\n",
    "plt.subplot(131); plt.imshow(img_rgb_darker);  plt.title(\"Darker\");\n",
    "plt.subplot(132); plt.imshow(img_rgb);         plt.title(\"Original\");\n",
    "plt.subplot(133); plt.imshow(img_rgb_brighter);plt.title(\"Brighter\");"
   ]
  },
  {
   "cell_type": "markdown",
   "metadata": {},
   "source": [
    "## Multiplication or Contrast\n",
    "Just like addition can result in brightness change, multiplication can be used to improve the contrast of the image. \n",
    "\n",
    "Contrast is the difference in the intensity values of the pixels of an image. Multiplying the intensity values with a constant can make the difference larger or smaller ( if multiplying factor is < 1 )."
   ]
  },
  {
   "cell_type": "code",
   "execution_count": null,
   "metadata": {},
   "outputs": [],
   "source": [
    "matrix1 = np.ones(img_rgb.shape) * .8\n",
    "matrix2 = np.ones(img_rgb.shape) * 1.2\n",
    "\n",
    "img_rgb_darker   = np.uint8(cv2.multiply(np.float64(img_rgb), matrix1))\n",
    "img_rgb_brighter = np.uint8(cv2.multiply(np.float64(img_rgb), matrix2))\n",
    "\n",
    "# Show the images\n",
    "plt.figure(figsize=[18,5])\n",
    "plt.subplot(131); plt.imshow(img_rgb_darker);  plt.title(\"Lower Contrast\");\n",
    "plt.subplot(132); plt.imshow(img_rgb);         plt.title(\"Original\");\n",
    "plt.subplot(133); plt.imshow(img_rgb_brighter);plt.title(\"Higher Contrast\");"
   ]
  },
  {
   "cell_type": "markdown",
   "metadata": {},
   "source": [
    "### <font color=\"green\">What happened?</font>\n",
    "Can you see the weird colors in some areas of the image after multiplication?\n",
    "\n",
    "The issue is that after multiplying, the values which are already high, are becoming greater than 255. Thus, the overflow issue. How do we overcome this?"
   ]
  },
  {
   "cell_type": "markdown",
   "metadata": {},
   "source": [
    "### <font color=\"green\">Handling Overflow using np.clip</font>"
   ]
  },
  {
   "cell_type": "code",
   "execution_count": null,
   "metadata": {
    "scrolled": true
   },
   "outputs": [],
   "source": [
    "matrix1 = np.ones(img_rgb.shape) * .8\n",
    "matrix2 = np.ones(img_rgb.shape) * 1.2\n",
    "\n",
    "img_rgb_lower   = np.uint8(cv2.multiply(np.float64(img_rgb), matrix1))\n",
    "img_rgb_higher  = np.uint8(np.clip(cv2.multiply(np.float64(img_rgb), matrix2),0,255))\n",
    "\n",
    "# Show the images\n",
    "plt.figure(figsize=[18,5])\n",
    "plt.subplot(131); plt.imshow(img_rgb_lower);  plt.title(\"Lower Contrast\");\n",
    "plt.subplot(132); plt.imshow(img_rgb);         plt.title(\"Original\");\n",
    "plt.subplot(133); plt.imshow(img_rgb_higher);plt.title(\"Higher Contrast\");"
   ]
  },
  {
   "cell_type": "markdown",
   "metadata": {},
   "source": [
    "## Image Thresholding\n",
    "Binary Images have a lot of use cases in Image Processing. One of the most common use cases is that of creating masks. Image Masks allow us to process on specific parts of an image keeping the other parts intact. Image Thresholding is used to create Binary Images from grayscale images. You can use different thresholds to create different binary images from the same original image. \n",
    "\n",
    "### <font color=\"green\">Function Syntax </font>\n",
    "\n",
    "``` python\n",
    "retval, dst = cv2.threshold( src, thresh, maxval, type[, dst] )\n",
    "```\n",
    "\n",
    "`dst`: The output array of the same size and type and the same number of channels as `src`.\n",
    "\n",
    "The function has **4 required arguments**:\n",
    "\n",
    "1. `src`: input array (multiple-channel, 8-bit or 32-bit floating point).\n",
    "2. `thresh`: threshold value.\n",
    "3. `maxval`: maximum value to use with the THRESH_BINARY and THRESH_BINARY_INV thresholding types.\n",
    "4. `type`: thresholding type (see ThresholdTypes).\n",
    "\n",
    "\n",
    "### <font color=\"green\">Function Syntax </font>\n",
    "\n",
    "``` python\n",
    "dst = cv.adaptiveThreshold( src, maxValue, adaptiveMethod, thresholdType, blockSize, C[, dst] )\n",
    "```\n",
    "\n",
    "`dst`\tDestination image of the same size and the same type as src.\n",
    "\n",
    "The function has **6 required arguments**:\n",
    "1. `src`:\tSource 8-bit single-channel image.\n",
    "\n",
    "2. `maxValue`:\tNon-zero value assigned to the pixels for which the condition is satisfied\n",
    "3. `adaptiveMethod`:\tAdaptive thresholding algorithm to use, see AdaptiveThresholdTypes. The BORDER_REPLICATE | BORDER_ISOLATED is used to process boundaries.\n",
    "4. `thresholdType:`\tThresholding type that must be either THRESH_BINARY or THRESH_BINARY_INV, see ThresholdTypes.\n",
    "5. `blockSize`:\tSize of a pixel neighborhood that is used to calculate a threshold value for the pixel: 3, 5, 7, and so on.\n",
    "6. `C`:\tConstant subtracted from the mean or weighted mean (see the details below). Normally, it is positive but may be zero or negative as well.\n",
    "\n",
    "### <font style=\"color:rgb(8,133,37)\">OpenCV Documentation</font>\n",
    "\n",
    "https://docs.opencv.org/4.5.1/d7/d1b/group__imgproc__misc.html#gae8a4a146d1ca78c626a53577199e9c57\n",
    "https://docs.opencv.org/4.5.1/d7/d4d/tutorial_py_thresholding.html"
   ]
  },
  {
   "cell_type": "code",
   "execution_count": null,
   "metadata": {},
   "outputs": [],
   "source": [
    "img_read = cv2.imread(r'C:\\Users\\Usuario\\Documents\\OPEN CV _CURSO\\04_Image_Enhancement\\building-windows.jpg', cv2.IMREAD_GRAYSCALE)\n",
    "retval, img_thresh = cv2.threshold(img_read, 100, 255, cv2.THRESH_BINARY)\n",
    "\n",
    "# Show the images\n",
    "plt.figure(figsize=[18,5])\n",
    "plt.subplot(121); plt.imshow(img_read, cmap=\"gray\");         plt.title(\"Original\");\n",
    "plt.subplot(122); plt.imshow(img_thresh, cmap=\"gray\");       plt.title(\"Thresholded\");\n",
    "\n",
    "print(img_thresh.shape)"
   ]
  },
  {
   "cell_type": "markdown",
   "metadata": {},
   "source": [
    "## Application: Sheet Music Reader \n",
    "Suppose you wanted to build an application that could read (decode) sheet music. This is similar to \n",
    "Optical Character Recognigition (OCR) for text documents where the goal is to recognize text characters. In either application, one of the first steps in the processing pipeline is to isolate the important information in the image of a document (separating it from the background). This task can be accomplished with thresholding \n",
    "techniques. Let's take a look at an example."
   ]
  },
  {
   "cell_type": "code",
   "execution_count": null,
   "metadata": {
    "scrolled": false
   },
   "outputs": [],
   "source": [
    "# Read the original image\n",
    "img_read = cv2.imread(r'C:\\Users\\Usuario\\Documents\\OPEN CV _CURSO\\04_Image_Enhancement\\Piano_Sheet_Music.png', cv2.IMREAD_GRAYSCALE)\n",
    "\n",
    "# Perform global thresholding\n",
    "retval, img_thresh_gbl_1 = cv2.threshold(img_read,50, 255, cv2.THRESH_BINARY)\n",
    "\n",
    "# Perform global thresholding\n",
    "retval, img_thresh_gbl_2 = cv2.threshold(img_read,130, 255, cv2.THRESH_BINARY)\n",
    "\n",
    "# Perform adaptive thresholding\n",
    "img_thresh_adp = cv2.adaptiveThreshold(img_read, 255, cv2.ADAPTIVE_THRESH_MEAN_C, cv2.THRESH_BINARY, 11, 7)\n",
    "\n",
    "# Show the images\n",
    "plt.figure(figsize=[18,15])\n",
    "plt.subplot(221); plt.imshow(img_read,        cmap=\"gray\");  plt.title(\"Original\");\n",
    "plt.subplot(222); plt.imshow(img_thresh_gbl_1,cmap=\"gray\");  plt.title(\"Thresholded (global: 50)\");\n",
    "plt.subplot(223); plt.imshow(img_thresh_gbl_2,cmap=\"gray\");  plt.title(\"Thresholded (global: 130)\");\n",
    "plt.subplot(224); plt.imshow(img_thresh_adp,  cmap=\"gray\");  plt.title(\"Thresholded (adaptive)\");"
   ]
  },
  {
   "cell_type": "markdown",
   "metadata": {},
   "source": [
    "## Bitwise Operations\n",
    "\n",
    "### <font style=\"color:rgb(8,133,37)\">Function Syntax</font>\n",
    "\n",
    "Example API for `cv2.bitwise_and()`. Others include: `cv2.bitwise_or()`, `cv2.bitwise_xor()`, `cv2.bitwise_not()`\n",
    "\n",
    "``` python\n",
    "dst = cv2.bitwise_and( src1, src2[, dst[, mask]] )\n",
    "```\n",
    "\n",
    "`dst`: Output array that has the same size and type as the input arrays.\n",
    "\n",
    "The function has **2 required arguments**:\n",
    "\n",
    "1. `src1`:\tfirst input array or a scalar.\n",
    "2. `src2`:\tsecond input array or a scalar.\n",
    "\n",
    "An important optional argument is:\n",
    "\n",
    "1. `mask`:\toptional operation mask, 8-bit single channel array, that specifies elements of the output array to be changed.\n",
    "\n",
    "\n",
    "### <font style=\"color:rgb(8,133,37)\">OpenCV Documentation</font>\n",
    "\n",
    "https://docs.opencv.org/4.5.1/d0/d86/tutorial_py_image_arithmetics.html\n",
    "https://docs.opencv.org/4.5.0/d2/de8/group__core__array.html#ga60b4d04b251ba5eb1392c34425497e14"
   ]
  },
  {
   "cell_type": "code",
   "execution_count": null,
   "metadata": {
    "slideshow": {
     "slide_type": "slide"
    }
   },
   "outputs": [],
   "source": [
    "img_rec = cv2.imread(r'C:\\Users\\Usuario\\Documents\\OPEN CV _CURSO\\04_Image_Enhancement\\rectangle.jpg', cv2.IMREAD_GRAYSCALE)\n",
    "\n",
    "img_cir = cv2.imread(r'C:\\Users\\Usuario\\Documents\\OPEN CV _CURSO\\04_Image_Enhancement\\circle.jpg', cv2.IMREAD_GRAYSCALE)\n",
    "\n",
    "plt.figure(figsize=[20,5])\n",
    "plt.subplot(121);plt.imshow(img_rec,cmap='gray')\n",
    "plt.subplot(122);plt.imshow(img_cir,cmap='gray')\n",
    "print(img_rec.shape)"
   ]
  },
  {
   "cell_type": "markdown",
   "metadata": {},
   "source": [
    "### <font color=\"green\">Bitwise AND Operator </font>"
   ]
  },
  {
   "cell_type": "code",
   "execution_count": null,
   "metadata": {},
   "outputs": [],
   "source": [
    "result = cv2.bitwise_and(img_rec, img_cir, mask = None)\n",
    "plt.imshow(result,cmap='gray')\n",
    "plt.show()"
   ]
  },
  {
   "cell_type": "markdown",
   "metadata": {},
   "source": [
    "### <font color=\"green\">Bitwise OR Operator </font>"
   ]
  },
  {
   "cell_type": "code",
   "execution_count": null,
   "metadata": {},
   "outputs": [],
   "source": [
    "result = cv2.bitwise_or(img_rec, img_cir, mask = None)\n",
    "plt.imshow(result,cmap='gray')\n",
    "plt.show()"
   ]
  },
  {
   "cell_type": "markdown",
   "metadata": {},
   "source": [
    "### <font color=\"green\">Bitwise XOR Operator </font>"
   ]
  },
  {
   "cell_type": "code",
   "execution_count": null,
   "metadata": {},
   "outputs": [],
   "source": [
    "result = cv2.bitwise_xor(img_rec, img_cir, mask = None)\n",
    "plt.imshow(result,cmap='gray')\n",
    "plt.show()"
   ]
  },
  {
   "cell_type": "markdown",
   "metadata": {},
   "source": [
    "## Application: Logo Manipulation\n",
    "\n",
    "In this section we will show you how to fill in the white lettering of the Coca-Cola logo below with a background image."
   ]
  },
  {
   "cell_type": "code",
   "execution_count": null,
   "metadata": {},
   "outputs": [],
   "source": [
    "Image(filename=r'C:\\Users\\Usuario\\Documents\\OPEN CV _CURSO\\04_Image_Enhancement\\coca-cola-logo.png')\n",
    "#Image(filename=r'ogo_Manipulation.png')"
   ]
  },
  {
   "cell_type": "markdown",
   "metadata": {},
   "source": [
    "### <font color=\"green\">Read Foreground image</font>"
   ]
  },
  {
   "cell_type": "code",
   "execution_count": null,
   "metadata": {},
   "outputs": [],
   "source": [
    "img_bgr = cv2.imread(r'C:\\Users\\Usuario\\Documents\\OPEN CV _CURSO\\04_Image_Enhancement\\coca-cola-logo.png')\n",
    "img_rgb = cv2.cvtColor(img_bgr, cv2.COLOR_BGR2RGB)\n",
    "plt.imshow(img_rgb)\n",
    "print(img_rgb.shape)\n",
    "logo_w = img_rgb.shape[0]\n",
    "logo_h = img_rgb.shape[1]"
   ]
  },
  {
   "cell_type": "markdown",
   "metadata": {},
   "source": [
    "### <font color=\"green\">Read Background image</font>"
   ]
  },
  {
   "cell_type": "code",
   "execution_count": null,
   "metadata": {},
   "outputs": [],
   "source": [
    "# Read in image of color cheackerboad background\n",
    "img_background_bgr = cv2.imread(r'C:\\Users\\Usuario\\Documents\\OPEN CV _CURSO\\04_Image_Enhancement\\checkerboard_color.png')\n",
    "img_background_rgb = cv2.cvtColor(img_background_bgr, cv2.COLOR_BGR2RGB)\n",
    "\n",
    "# Set desired width (logo_w) and maintain image aspect ratio\n",
    "aspect_ratio = logo_w / img_background_rgb.shape[1]\n",
    "dim = (logo_w, int(img_background_rgb.shape[0] * aspect_ratio))\n",
    "\n",
    "# Resize background image to sae size as logo image\n",
    "img_background_rgb = cv2.resize(img_background_rgb, dim, interpolation=cv2.INTER_AREA)\n",
    "\n",
    "plt.imshow(img_background_rgb) \n",
    "plt.show()\n",
    "print(img_background_rgb.shape)"
   ]
  },
  {
   "cell_type": "markdown",
   "metadata": {},
   "source": [
    "### <font color=\"green\">Create Mask for original Image</font>"
   ]
  },
  {
   "cell_type": "code",
   "execution_count": null,
   "metadata": {},
   "outputs": [],
   "source": [
    "img_gray = cv2.cvtColor(img_rgb, cv2.COLOR_RGB2GRAY)\n",
    "\n",
    "# Apply global thresholding to creat a binary mask of the logo\n",
    "retval, img_mask = cv2.threshold(img_gray,127,255,cv2.THRESH_BINARY)\n",
    "\n",
    "plt.imshow(img_mask,cmap=\"gray\")\n",
    "plt.show()\n",
    "print(img_mask.shape)"
   ]
  },
  {
   "cell_type": "markdown",
   "metadata": {},
   "source": [
    "### <font color=\"green\">Invert the Mask </font>"
   ]
  },
  {
   "cell_type": "code",
   "execution_count": null,
   "metadata": {},
   "outputs": [],
   "source": [
    "# Create an inverse mask\n",
    "img_mask_inv = cv2.bitwise_not(img_mask)\n",
    "plt.imshow(img_mask_inv,cmap=\"gray\")\n",
    "plt.show()"
   ]
  },
  {
   "cell_type": "markdown",
   "metadata": {},
   "source": [
    "### <font color=\"green\">Apply background on the Mask</font>"
   ]
  },
  {
   "cell_type": "code",
   "execution_count": null,
   "metadata": {},
   "outputs": [],
   "source": [
    "# Create colorful background \"behind\" the logo lettering\n",
    "img_background = cv2.bitwise_and(img_background_rgb, img_background_rgb, mask=img_mask)\n",
    "plt.imshow(img_background)\n",
    "plt.show()"
   ]
  },
  {
   "cell_type": "markdown",
   "metadata": {},
   "source": [
    "### <font color=\"green\">Isolate foreground from image</font>"
   ]
  },
  {
   "cell_type": "code",
   "execution_count": null,
   "metadata": {},
   "outputs": [],
   "source": [
    "# Isolate foreground (red from original image) using the inverse mask\n",
    "img_foreground = cv2.bitwise_and(img_rgb, img_rgb, mask=img_mask_inv)\n",
    "plt.imshow(img_foreground)\n",
    "plt.show()"
   ]
  },
  {
   "cell_type": "markdown",
   "metadata": {},
   "source": [
    "### <font color=\"green\">Result: Merge Foreground and Background</font>"
   ]
  },
  {
   "cell_type": "code",
   "execution_count": null,
   "metadata": {},
   "outputs": [],
   "source": [
    "# Add the two previous results obtain the final result\n",
    "result = cv2.add(img_background,img_foreground)\n",
    "plt.imshow(result)\n",
    "plt.show()\n",
    "cv2.imwrite(\"logo_final.png\", result[:,:,::-1])"
   ]
  },
  {
   "cell_type": "markdown",
   "metadata": {},
   "source": [
    "## Thank You!"
   ]
  }
 ],
 "metadata": {
  "celltoolbar": "Slideshow",
  "kernelspec": {
   "display_name": "Python 3 (ipykernel)",
   "language": "python",
   "name": "python3"
  },
  "language_info": {
   "codemirror_mode": {
    "name": "ipython",
    "version": 3
   },
   "file_extension": ".py",
   "mimetype": "text/x-python",
   "name": "python",
   "nbconvert_exporter": "python",
   "pygments_lexer": "ipython3",
   "version": "3.9.7"
  }
 },
 "nbformat": 4,
 "nbformat_minor": 2
}
